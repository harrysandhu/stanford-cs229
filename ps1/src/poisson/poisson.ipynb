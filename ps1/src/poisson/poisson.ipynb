{
 "cells": [
  {
   "cell_type": "code",
   "execution_count": 74,
   "metadata": {},
   "outputs": [],
   "source": [
    "import numpy as np\n",
    "import util\n",
    "import matplotlib.pyplot as plt\n",
    "\n",
    "\n",
    "class PoissonRegression:\n",
    "    \"\"\"Poisson Regression.\n",
    "\n",
    "    Example usage:\n",
    "        > clf = PoissonRegression(step_size=lr)\n",
    "        > clf.fit(x_train, y_train)\n",
    "        > clf.predict(x_eval)\n",
    "    \"\"\"\n",
    "\n",
    "    def __init__(self, step_size=1e-5, max_iter=10000000, eps=1e-10,\n",
    "                 theta_0=None, verbose=True):\n",
    "        \"\"\"\n",
    "        Args:\n",
    "            step_size: Step size for iterative solvers only.\n",
    "            max_iter: Maximum number of iterations for the solver.\n",
    "            eps: Threshold for determining convergence.\n",
    "            theta_0: Initial guess for theta. If None, use the zero vector.\n",
    "            verbose: Print loss values during training.\n",
    "        \"\"\"\n",
    "        self.theta = theta_0\n",
    "        self.step_size = step_size\n",
    "        self.max_iter = max_iter\n",
    "        self.eps = eps\n",
    "        self.verbose = verbose\n",
    "        \n",
    "    def hyp(self, x):\n",
    "        return np.exp(self.theta.dot(x.T))\n",
    "    \n",
    "    \n",
    "    def fit(self, x, y):\n",
    "        \"\"\"Run gradient ascent to maximize likelihood for Poisson regression.\n",
    "\n",
    "        Args:\n",
    "            x: Training example inputs. Shape (n_examples, dim).\n",
    "            y: Training example labels. Shape (n_examples,).\n",
    "        \"\"\"\n",
    "        # *** START CODE HERE ***\n",
    "        n = len(x) # n\n",
    "        d = len(x[0]) # number of features/parameters\n",
    "        self.theta = np.zeros((1, d))\n",
    "        theta = np.array([100 for i in range(d)])\n",
    "        i = 0\n",
    "        eta = 0.01\n",
    "        while i < self.max_iter and (abs(theta - self.theta) > self.eps).all():\n",
    "            theta = self.theta\n",
    "            grad = (1/n)*np.subtract(y.T, self.hyp(x)).dot(x)\n",
    "            self.theta = self.theta + self.step_size*grad\n",
    "            i += 1\n",
    "        # *** END CODE HERE ***\n",
    "\n",
    "    def predict(self, x):\n",
    "        \"\"\"Make a prediction given inputs x.\n",
    "\n",
    "        Args:\n",
    "            x: Inputs of shape (n_examples, dim).\n",
    "\n",
    "        Returns:\n",
    "            Floating-point prediction for each input, shape (n_examples,).\n",
    "        \"\"\"\n",
    "        # *** START CODE HERE ***\n",
    "        return self.hyp(x)\n",
    "        # *** END CODE HERE ***"
   ]
  },
  {
   "cell_type": "code",
   "execution_count": 79,
   "metadata": {},
   "outputs": [
    {
     "data": {
      "image/png": "[encoded data removed]",
      "text/plain": [
       "<Figure size 432x288 with 1 Axes>"
      ]
     },
     "metadata": {
      "needs_background": "light"
     },
     "output_type": "display_data"
    }
   ],
   "source": [
    "def main(lr, train_path, eval_path, save_path):\n",
    "    \"\"\"Problem: Poisson regression with gradient ascent.\n",
    "\n",
    "    Args:\n",
    "        lr: Learning rate for gradient ascent.\n",
    "        train_path: Path to CSV file containing dataset for training.\n",
    "        eval_path: Path to CSV file containing dataset for evaluation.\n",
    "        save_path: Path to save predictions.\n",
    "    \"\"\"\n",
    "    # Load training set\n",
    "    x_train, y_train = util.load_dataset(train_path, add_intercept=True)\n",
    "    y_train = np.array(y_train).reshape(-1,1)\n",
    "    # *** START CODE HERE ***\n",
    "    # Fit a Poisson Regression model\n",
    "    clf = PoissonRegression()\n",
    "    clf.fit(x_train, y_train)\n",
    "    \n",
    "    # Run on the validation set, and use np.savetxt to save outputs to save_path\n",
    "    x, y = util.load_dataset(eval_path, add_intercept=True)\n",
    "    y = np.array(y).reshape(-1,1)\n",
    "    y_pred = clf.predict(x)\n",
    "    plt.scatter(y, y_pred)\n",
    "    plt.show()\n",
    "    np.savetxt(save_path, y_pred)\n",
    "    # *** END CODE HERE ***\n",
    "    \n",
    "if __name__ == '__main__':\n",
    "    main(lr=1e-5,\n",
    "        train_path='train.csv',\n",
    "        eval_path='valid.csv',\n",
    "        save_path='poisson_pred.txt')\n"
   ]
  },
  {
   "cell_type": "code",
   "execution_count": null,
   "metadata": {},
   "outputs": [],
   "source": []
  }
 ],
 "metadata": {
  "kernelspec": {
   "display_name": "Python 3",
   "language": "python",
   "name": "python3"
  },
  "language_info": {
   "codemirror_mode": {
    "name": "ipython",
    "version": 3
   },
   "file_extension": ".py",
   "mimetype": "text/x-python",
   "name": "python",
   "nbconvert_exporter": "python",
   "pygments_lexer": "ipython3",
   "version": "3.8.5"
  }
 },
 "nbformat": 4,
 "nbformat_minor": 4
}
